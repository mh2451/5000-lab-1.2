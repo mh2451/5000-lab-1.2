{
  "cells": [
    {
      "cell_type": "markdown",
      "metadata": {},
      "source": [
        "---\n",
        "title: \"About\"\n",
        "format: html\n",
        "jupyter: python3\n",
        "execute:\n",
        "  echo: true\n",
        "---\n",
        "\n",
        "About this site"
      ]
    },
    {
      "cell_type": "markdown",
      "metadata": {},
      "source": [
        "# Purpose\n",
        "This website is meant to help practice building a simple website using quarto, while pushing it to GU domains. It is also meant to reinforce good practices with using git as well as rsync. \n",
        "\n",
        "## Content\n",
        "The content of this website is loosely based on some research I performed during my undergradute studies as a Nutrtional Sciences student. We were tasked on creating a chocolate product that catered to the needs of a specific demographic. \n",
        "\n",
        "### Plot\n",
        "The following plot is just practice."
      ]
    },
    {
      "cell_type": "code",
      "execution_count": null,
      "metadata": {},
      "outputs": [],
      "source": [
        "import matplotlib.pyplot as plt\n",
        "import numpy as np\n",
        "\n",
        "x = np.linspace(0, 10, 200)\n",
        "a = 1 \n",
        "b = 0.5\n",
        "y = a * np.exp(b * x)\n",
        "plt.figure(figsize=(8,5))\n",
        "plt.plot(x, y, linewidth=2, color=\"blue\")\n",
        "plt.title(\"Python skill over time\", fontsize=14)\n",
        "plt.xlabel(\"Time\", fontsize=12)\n",
        "plt.ylabel(\"skill\", fontsize=12)\n",
        "plt.grid(True)\n",
        "plt.show()"
      ]
    }
  ],
  "metadata": {
    "kernelspec": {
      "display_name": "base",
      "language": "python",
      "name": "python3"
    },
    "language_info": {
      "name": "python",
      "version": "3.11.7"
    }
  },
  "nbformat": 4,
  "nbformat_minor": 4
}
