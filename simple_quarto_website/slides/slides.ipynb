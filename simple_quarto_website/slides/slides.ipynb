{
 "cells": [
  {
   "cell_type": "markdown",
   "id": "ae7bdba6",
   "metadata": {},
   "source": [
    "---\n",
    "title: \"How to Make Chocolate Shells\"\n",
    "format: \n",
    "    revealjs:\n",
    "        code-fold: true\n",
    "jupyter: python3\n",
    "execute:\n",
    "    echo: true\n",
    "bibliography: ../reference.bib\n",
    "---\n",
    "## Getting Started\n",
    "Chop chocolate into small pieces to help the melting process, put 1/3 of pieces to the side.\n",
    "Melt the Chocolate Fully, Constantly Stirring\n",
    "![](./images/heatingchocolate.jpg)\n",
    "\n",
    "## Tempering the Chocolate\n",
    "As the chocolate begins to cool, slowly add the remaining chocolate pieces.\n",
    "![](./images/TemperingChocolate.webp)\n",
    "\n",
    "## Shaping the chocolate\n",
    "Once the chocolate is cooled, add it to the molds, and allow it to cool completely.\n",
    "Congrats, you have a chocolate shell![@scholey2013effects]\n",
    "\n",
    "## Code Block\n",
    "```python {.fold}\n",
    "# Was the chocolate a success?\n",
    "# Practice code-fold\n",
    "# \n",
    "# \n",
    "# \n",
    "# \n",
    "# \n",
    "# \n",
    "# \n",
    "# \n",
    "# \n",
    "# \n",
    "# \n",
    "#\n",
    "success = 1\n",
    "if success == 1:\n",
    "    print(\"We created a chocolate shell!\")\n",
    "else:\n",
    "    print(\"We messed it up...\")\n",
    "```\n",
    "\n",
    "## References"
   ]
  }
 ],
 "metadata": {
  "language_info": {
   "name": "python"
  }
 },
 "nbformat": 4,
 "nbformat_minor": 5
}
